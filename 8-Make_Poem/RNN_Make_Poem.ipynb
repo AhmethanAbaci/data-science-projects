{
  "nbformat": 4,
  "nbformat_minor": 0,
  "metadata": {
    "colab": {
      "provenance": [],
      "authorship_tag": "ABX9TyNAwYOSVu4CMpT7NF6LxcMD",
      "include_colab_link": true
    },
    "kernelspec": {
      "name": "python3",
      "display_name": "Python 3"
    },
    "language_info": {
      "name": "python"
    }
  },
  "cells": [
    {
      "cell_type": "markdown",
      "metadata": {
        "id": "view-in-github",
        "colab_type": "text"
      },
      "source": [
        "<a href=\"https://colab.research.google.com/github/AhmethanAbaci/data-science-projects/blob/main/Untitled7.ipynb\" target=\"_parent\"><img src=\"https://colab.research.google.com/assets/colab-badge.svg\" alt=\"Open In Colab\"/></a>"
      ]
    },
    {
      "cell_type": "code",
      "execution_count": null,
      "metadata": {
        "colab": {
          "base_uri": "https://localhost:8080/",
          "height": 420
        },
        "id": "VuzSqdUd96Mu",
        "outputId": "8d8054fa-3fb5-44a6-f40c-23b6676e3bef"
      },
      "outputs": [
        {
          "output_type": "display_data",
          "data": {
            "text/plain": [
              "<IPython.core.display.HTML object>"
            ],
            "text/html": [
              "\n",
              "     <input type=\"file\" id=\"files-a7808b42-07aa-4376-a23e-32ca827363b2\" name=\"files[]\" multiple disabled\n",
              "        style=\"border:none\" />\n",
              "     <output id=\"result-a7808b42-07aa-4376-a23e-32ca827363b2\">\n",
              "      Upload widget is only available when the cell has been executed in the\n",
              "      current browser session. Please rerun this cell to enable.\n",
              "      </output>\n",
              "      <script>// Copyright 2017 Google LLC\n",
              "//\n",
              "// Licensed under the Apache License, Version 2.0 (the \"License\");\n",
              "// you may not use this file except in compliance with the License.\n",
              "// You may obtain a copy of the License at\n",
              "//\n",
              "//      http://www.apache.org/licenses/LICENSE-2.0\n",
              "//\n",
              "// Unless required by applicable law or agreed to in writing, software\n",
              "// distributed under the License is distributed on an \"AS IS\" BASIS,\n",
              "// WITHOUT WARRANTIES OR CONDITIONS OF ANY KIND, either express or implied.\n",
              "// See the License for the specific language governing permissions and\n",
              "// limitations under the License.\n",
              "\n",
              "/**\n",
              " * @fileoverview Helpers for google.colab Python module.\n",
              " */\n",
              "(function(scope) {\n",
              "function span(text, styleAttributes = {}) {\n",
              "  const element = document.createElement('span');\n",
              "  element.textContent = text;\n",
              "  for (const key of Object.keys(styleAttributes)) {\n",
              "    element.style[key] = styleAttributes[key];\n",
              "  }\n",
              "  return element;\n",
              "}\n",
              "\n",
              "// Max number of bytes which will be uploaded at a time.\n",
              "const MAX_PAYLOAD_SIZE = 100 * 1024;\n",
              "\n",
              "function _uploadFiles(inputId, outputId) {\n",
              "  const steps = uploadFilesStep(inputId, outputId);\n",
              "  const outputElement = document.getElementById(outputId);\n",
              "  // Cache steps on the outputElement to make it available for the next call\n",
              "  // to uploadFilesContinue from Python.\n",
              "  outputElement.steps = steps;\n",
              "\n",
              "  return _uploadFilesContinue(outputId);\n",
              "}\n",
              "\n",
              "// This is roughly an async generator (not supported in the browser yet),\n",
              "// where there are multiple asynchronous steps and the Python side is going\n",
              "// to poll for completion of each step.\n",
              "// This uses a Promise to block the python side on completion of each step,\n",
              "// then passes the result of the previous step as the input to the next step.\n",
              "function _uploadFilesContinue(outputId) {\n",
              "  const outputElement = document.getElementById(outputId);\n",
              "  const steps = outputElement.steps;\n",
              "\n",
              "  const next = steps.next(outputElement.lastPromiseValue);\n",
              "  return Promise.resolve(next.value.promise).then((value) => {\n",
              "    // Cache the last promise value to make it available to the next\n",
              "    // step of the generator.\n",
              "    outputElement.lastPromiseValue = value;\n",
              "    return next.value.response;\n",
              "  });\n",
              "}\n",
              "\n",
              "/**\n",
              " * Generator function which is called between each async step of the upload\n",
              " * process.\n",
              " * @param {string} inputId Element ID of the input file picker element.\n",
              " * @param {string} outputId Element ID of the output display.\n",
              " * @return {!Iterable<!Object>} Iterable of next steps.\n",
              " */\n",
              "function* uploadFilesStep(inputId, outputId) {\n",
              "  const inputElement = document.getElementById(inputId);\n",
              "  inputElement.disabled = false;\n",
              "\n",
              "  const outputElement = document.getElementById(outputId);\n",
              "  outputElement.innerHTML = '';\n",
              "\n",
              "  const pickedPromise = new Promise((resolve) => {\n",
              "    inputElement.addEventListener('change', (e) => {\n",
              "      resolve(e.target.files);\n",
              "    });\n",
              "  });\n",
              "\n",
              "  const cancel = document.createElement('button');\n",
              "  inputElement.parentElement.appendChild(cancel);\n",
              "  cancel.textContent = 'Cancel upload';\n",
              "  const cancelPromise = new Promise((resolve) => {\n",
              "    cancel.onclick = () => {\n",
              "      resolve(null);\n",
              "    };\n",
              "  });\n",
              "\n",
              "  // Wait for the user to pick the files.\n",
              "  const files = yield {\n",
              "    promise: Promise.race([pickedPromise, cancelPromise]),\n",
              "    response: {\n",
              "      action: 'starting',\n",
              "    }\n",
              "  };\n",
              "\n",
              "  cancel.remove();\n",
              "\n",
              "  // Disable the input element since further picks are not allowed.\n",
              "  inputElement.disabled = true;\n",
              "\n",
              "  if (!files) {\n",
              "    return {\n",
              "      response: {\n",
              "        action: 'complete',\n",
              "      }\n",
              "    };\n",
              "  }\n",
              "\n",
              "  for (const file of files) {\n",
              "    const li = document.createElement('li');\n",
              "    li.append(span(file.name, {fontWeight: 'bold'}));\n",
              "    li.append(span(\n",
              "        `(${file.type || 'n/a'}) - ${file.size} bytes, ` +\n",
              "        `last modified: ${\n",
              "            file.lastModifiedDate ? file.lastModifiedDate.toLocaleDateString() :\n",
              "                                    'n/a'} - `));\n",
              "    const percent = span('0% done');\n",
              "    li.appendChild(percent);\n",
              "\n",
              "    outputElement.appendChild(li);\n",
              "\n",
              "    const fileDataPromise = new Promise((resolve) => {\n",
              "      const reader = new FileReader();\n",
              "      reader.onload = (e) => {\n",
              "        resolve(e.target.result);\n",
              "      };\n",
              "      reader.readAsArrayBuffer(file);\n",
              "    });\n",
              "    // Wait for the data to be ready.\n",
              "    let fileData = yield {\n",
              "      promise: fileDataPromise,\n",
              "      response: {\n",
              "        action: 'continue',\n",
              "      }\n",
              "    };\n",
              "\n",
              "    // Use a chunked sending to avoid message size limits. See b/62115660.\n",
              "    let position = 0;\n",
              "    do {\n",
              "      const length = Math.min(fileData.byteLength - position, MAX_PAYLOAD_SIZE);\n",
              "      const chunk = new Uint8Array(fileData, position, length);\n",
              "      position += length;\n",
              "\n",
              "      const base64 = btoa(String.fromCharCode.apply(null, chunk));\n",
              "      yield {\n",
              "        response: {\n",
              "          action: 'append',\n",
              "          file: file.name,\n",
              "          data: base64,\n",
              "        },\n",
              "      };\n",
              "\n",
              "      let percentDone = fileData.byteLength === 0 ?\n",
              "          100 :\n",
              "          Math.round((position / fileData.byteLength) * 100);\n",
              "      percent.textContent = `${percentDone}% done`;\n",
              "\n",
              "    } while (position < fileData.byteLength);\n",
              "  }\n",
              "\n",
              "  // All done.\n",
              "  yield {\n",
              "    response: {\n",
              "      action: 'complete',\n",
              "    }\n",
              "  };\n",
              "}\n",
              "\n",
              "scope.google = scope.google || {};\n",
              "scope.google.colab = scope.google.colab || {};\n",
              "scope.google.colab._files = {\n",
              "  _uploadFiles,\n",
              "  _uploadFilesContinue,\n",
              "};\n",
              "})(self);\n",
              "</script> "
            ]
          },
          "metadata": {}
        },
        {
          "output_type": "stream",
          "name": "stdout",
          "text": [
            "Saving wordsss.txt to wordsss.txt\n",
            "Toplam karakter sayısı: 45681\n",
            "İlk 500 karakter:\n",
            " Omuzlanınca tabutun\n",
            "İlk defa kurtuldu ayakların topraktan\n",
            "Muhteşem oldu medreseden çıkışın\n",
            "Dikildiler yol üstüne\n",
            "Bir dilim ekmeği çok görenler\n",
            "Yüzüne bakmaynlar sağlığında\n",
            "Bir selamla borçlarını ödediler\n",
            "Üzülme çelenkler gelmiyor pesinden\n",
            "Mevsimsiz oldu ölümün\n",
            "Ne olurdu bir kıs daha bekleseydin\n",
            "Bahar gelir çeçekler açardı\n",
            "Ölümün kimseyi sevindirmedi\n",
            "Atsız arabasız kalktı cenazen\n",
            "Alçak gönüllü adamdın\n",
            "Herkesten uzak yasadın\n",
            "Ölümünde gürültüsüz oldu\n",
            "Gözlerimde bir nehir akar,  \n",
            "gecelerin karanlığı\n"
          ]
        }
      ],
      "source": [
        "from google.colab import files\n",
        "\n",
        "uploaded = files.upload()\n",
        "\n",
        "import io\n",
        "\n",
        "filename = list(uploaded.keys())[0]  #\n",
        "with io.open(filename, 'r', encoding='utf-8') as f:\n",
        "    text = f.read()\n",
        "\n",
        "print(\"Toplam karakter sayısı:\", len(text))\n",
        "print(\"İlk 500 karakter:\\n\", text[:500])"
      ]
    },
    {
      "cell_type": "code",
      "source": [
        "from tensorflow.keras.preprocessing.text import Tokenizer\n",
        "from tensorflow.keras.preprocessing.sequence import pad_sequences\n",
        "\n",
        "# 1. Tokenizer kelime bazlı\n",
        "tokenizer = Tokenizer()\n",
        "tokenizer.fit_on_texts([text])\n",
        "\n",
        "# 2. Kelime → sayı mapping\n",
        "word_index = tokenizer.word_index\n",
        "print(\"Toplam kelime sayısı:\", len(word_index))\n",
        "\n",
        "# 3. Metni sayılara çevir\n",
        "sequences = tokenizer.texts_to_sequences([text])[0]\n",
        "print(\"İlk 20 sayı:\", sequences[:20])\n",
        "\n",
        "# 4. Sayılardan tekrar kelimeye bakabilmek için:\n",
        "reverse_word_index = {v: k for k, v in word_index.items()}\n",
        "print(\"İlk 20 kelime:\", [reverse_word_index[i] for i in sequences[:20]])\n"
      ],
      "metadata": {
        "colab": {
          "base_uri": "https://localhost:8080/"
        },
        "id": "MUJHU6ju-V8G",
        "outputId": "fc585902-7583-48c0-c8ac-9b55add79ea3"
      },
      "execution_count": null,
      "outputs": [
        {
          "output_type": "stream",
          "name": "stdout",
          "text": [
            "Toplam kelime sayısı: 2520\n",
            "İlk 20 sayı: [1146, 1147, 520, 521, 1148, 360, 1149, 1150, 127, 1151, 1152, 1153, 20, 361, 1, 1154, 1155, 39, 1156, 106]\n",
            "İlk 20 kelime: ['omuzlanınca', 'tabutun', 'i̇lk', 'defa', 'kurtuldu', 'ayakların', 'topraktan', 'muhteşem', 'oldu', 'medreseden', 'çıkışın', 'dikildiler', 'yol', 'üstüne', 'bir', 'dilim', 'ekmeği', 'çok', 'görenler', 'yüzüne']\n"
          ]
        }
      ]
    },
    {
      "cell_type": "code",
      "source": [
        "import numpy as np\n",
        "\n",
        "# Örnek uzunluğu (her girdi kaç kelimeden oluşsun)\n",
        "seq_length = 5\n",
        "\n",
        "X = []\n",
        "y = []\n",
        "\n",
        "for i in range(seq_length, len(sequences)):\n",
        "    # Girdi: önceki kelimeler\n",
        "    X.append(sequences[i-seq_length:i])\n",
        "    # Hedef: sıradaki kelime\n",
        "    y.append(sequences[i])\n",
        "\n",
        "X = np.array(X)\n",
        "y = np.array(y)\n",
        "\n",
        "print(\"X shape:\", X.shape)\n",
        "print(\"y shape:\", y.shape)\n",
        "\n",
        "print(\"Örnek giriş:\", [reverse_word_index[idx] for idx in X[0]])\n",
        "print(\"Beklenen çıktı:\", reverse_word_index[y[0]])\n"
      ],
      "metadata": {
        "colab": {
          "base_uri": "https://localhost:8080/"
        },
        "id": "vf7F10xA-sN5",
        "outputId": "962cf7e0-f82d-4e2b-9089-c7bcf7f2909b"
      },
      "execution_count": null,
      "outputs": [
        {
          "output_type": "stream",
          "name": "stdout",
          "text": [
            "X shape: (6743, 5)\n",
            "y shape: (6743,)\n",
            "Örnek giriş: ['omuzlanınca', 'tabutun', 'i̇lk', 'defa', 'kurtuldu']\n",
            "Beklenen çıktı: ayakların\n"
          ]
        }
      ]
    },
    {
      "cell_type": "code",
      "source": [
        "from tensorflow.keras.utils import to_categorical\n",
        "from tensorflow.keras.models import Sequential\n",
        "from tensorflow.keras.layers import Embedding, LSTM, Dense\n",
        "\n",
        "# 1. Hedefleri one-hot encode et\n",
        "vocab_size = len(word_index) + 1\n",
        "y_cat = to_categorical(y, num_classes=vocab_size)\n",
        "\n",
        "print(\"y_cat shape:\", y_cat.shape)\n",
        "\n",
        "# 2. Model tanımlama\n",
        "model = Sequential()\n",
        "model.add(Embedding(input_dim=vocab_size, output_dim=50, input_length=seq_length))\n",
        "model.add(LSTM(100, return_sequences=False))\n",
        "model.add(Dense(vocab_size, activation='softmax'))\n",
        "\n",
        "model.compile(loss='categorical_crossentropy', optimizer='adam', metrics=['accuracy'])\n",
        "\n",
        "# Eğitim\n",
        "history = model.fit(X, y_cat, epochs=30, batch_size=64, verbose=1)\n"
      ],
      "metadata": {
        "colab": {
          "base_uri": "https://localhost:8080/"
        },
        "id": "btWXF6_Q-2FZ",
        "outputId": "8d6ddd1d-6ebe-4244-a799-4cabf508285d"
      },
      "execution_count": null,
      "outputs": [
        {
          "output_type": "stream",
          "name": "stdout",
          "text": [
            "y_cat shape: (6743, 2521)\n"
          ]
        },
        {
          "output_type": "stream",
          "name": "stderr",
          "text": [
            "/usr/local/lib/python3.12/dist-packages/keras/src/layers/core/embedding.py:97: UserWarning: Argument `input_length` is deprecated. Just remove it.\n",
            "  warnings.warn(\n"
          ]
        },
        {
          "output_type": "stream",
          "name": "stdout",
          "text": [
            "Epoch 1/30\n",
            "\u001b[1m106/106\u001b[0m \u001b[32m━━━━━━━━━━━━━━━━━━━━\u001b[0m\u001b[37m\u001b[0m \u001b[1m4s\u001b[0m 14ms/step - accuracy: 0.0289 - loss: 7.7314\n",
            "Epoch 2/30\n",
            "\u001b[1m106/106\u001b[0m \u001b[32m━━━━━━━━━━━━━━━━━━━━\u001b[0m\u001b[37m\u001b[0m \u001b[1m2s\u001b[0m 14ms/step - accuracy: 0.0372 - loss: 7.0107\n",
            "Epoch 3/30\n",
            "\u001b[1m106/106\u001b[0m \u001b[32m━━━━━━━━━━━━━━━━━━━━\u001b[0m\u001b[37m\u001b[0m \u001b[1m1s\u001b[0m 14ms/step - accuracy: 0.0372 - loss: 6.8550\n",
            "Epoch 4/30\n",
            "\u001b[1m106/106\u001b[0m \u001b[32m━━━━━━━━━━━━━━━━━━━━\u001b[0m\u001b[37m\u001b[0m \u001b[1m1s\u001b[0m 14ms/step - accuracy: 0.0394 - loss: 6.7424\n",
            "Epoch 5/30\n",
            "\u001b[1m106/106\u001b[0m \u001b[32m━━━━━━━━━━━━━━━━━━━━\u001b[0m\u001b[37m\u001b[0m \u001b[1m3s\u001b[0m 20ms/step - accuracy: 0.0413 - loss: 6.6029\n",
            "Epoch 6/30\n",
            "\u001b[1m106/106\u001b[0m \u001b[32m━━━━━━━━━━━━━━━━━━━━\u001b[0m\u001b[37m\u001b[0m \u001b[1m2s\u001b[0m 14ms/step - accuracy: 0.0457 - loss: 6.4829\n",
            "Epoch 7/30\n",
            "\u001b[1m106/106\u001b[0m \u001b[32m━━━━━━━━━━━━━━━━━━━━\u001b[0m\u001b[37m\u001b[0m \u001b[1m2s\u001b[0m 14ms/step - accuracy: 0.0534 - loss: 6.3219\n",
            "Epoch 8/30\n",
            "\u001b[1m106/106\u001b[0m \u001b[32m━━━━━━━━━━━━━━━━━━━━\u001b[0m\u001b[37m\u001b[0m \u001b[1m2s\u001b[0m 14ms/step - accuracy: 0.0473 - loss: 6.1423\n",
            "Epoch 9/30\n",
            "\u001b[1m106/106\u001b[0m \u001b[32m━━━━━━━━━━━━━━━━━━━━\u001b[0m\u001b[37m\u001b[0m \u001b[1m1s\u001b[0m 14ms/step - accuracy: 0.0532 - loss: 5.9966\n",
            "Epoch 10/30\n",
            "\u001b[1m106/106\u001b[0m \u001b[32m━━━━━━━━━━━━━━━━━━━━\u001b[0m\u001b[37m\u001b[0m \u001b[1m3s\u001b[0m 16ms/step - accuracy: 0.0595 - loss: 5.8635\n",
            "Epoch 11/30\n",
            "\u001b[1m106/106\u001b[0m \u001b[32m━━━━━━━━━━━━━━━━━━━━\u001b[0m\u001b[37m\u001b[0m \u001b[1m3s\u001b[0m 19ms/step - accuracy: 0.0602 - loss: 5.6737\n",
            "Epoch 12/30\n",
            "\u001b[1m106/106\u001b[0m \u001b[32m━━━━━━━━━━━━━━━━━━━━\u001b[0m\u001b[37m\u001b[0m \u001b[1m2s\u001b[0m 14ms/step - accuracy: 0.0661 - loss: 5.4934\n",
            "Epoch 13/30\n",
            "\u001b[1m106/106\u001b[0m \u001b[32m━━━━━━━━━━━━━━━━━━━━\u001b[0m\u001b[37m\u001b[0m \u001b[1m3s\u001b[0m 14ms/step - accuracy: 0.0756 - loss: 5.3043\n",
            "Epoch 14/30\n",
            "\u001b[1m106/106\u001b[0m \u001b[32m━━━━━━━━━━━━━━━━━━━━\u001b[0m\u001b[37m\u001b[0m \u001b[1m3s\u001b[0m 14ms/step - accuracy: 0.0984 - loss: 5.0788\n",
            "Epoch 15/30\n",
            "\u001b[1m106/106\u001b[0m \u001b[32m━━━━━━━━━━━━━━━━━━━━\u001b[0m\u001b[37m\u001b[0m \u001b[1m3s\u001b[0m 19ms/step - accuracy: 0.1150 - loss: 4.8798\n",
            "Epoch 16/30\n",
            "\u001b[1m106/106\u001b[0m \u001b[32m━━━━━━━━━━━━━━━━━━━━\u001b[0m\u001b[37m\u001b[0m \u001b[1m2s\u001b[0m 15ms/step - accuracy: 0.1433 - loss: 4.6585\n",
            "Epoch 17/30\n",
            "\u001b[1m106/106\u001b[0m \u001b[32m━━━━━━━━━━━━━━━━━━━━\u001b[0m\u001b[37m\u001b[0m \u001b[1m1s\u001b[0m 14ms/step - accuracy: 0.1640 - loss: 4.4701\n",
            "Epoch 18/30\n",
            "\u001b[1m106/106\u001b[0m \u001b[32m━━━━━━━━━━━━━━━━━━━━\u001b[0m\u001b[37m\u001b[0m \u001b[1m3s\u001b[0m 14ms/step - accuracy: 0.2026 - loss: 4.2225\n",
            "Epoch 19/30\n",
            "\u001b[1m106/106\u001b[0m \u001b[32m━━━━━━━━━━━━━━━━━━━━\u001b[0m\u001b[37m\u001b[0m \u001b[1m3s\u001b[0m 14ms/step - accuracy: 0.2501 - loss: 4.0185\n",
            "Epoch 20/30\n",
            "\u001b[1m106/106\u001b[0m \u001b[32m━━━━━━━━━━━━━━━━━━━━\u001b[0m\u001b[37m\u001b[0m \u001b[1m2s\u001b[0m 14ms/step - accuracy: 0.2766 - loss: 3.8415\n",
            "Epoch 21/30\n",
            "\u001b[1m106/106\u001b[0m \u001b[32m━━━━━━━━━━━━━━━━━━━━\u001b[0m\u001b[37m\u001b[0m \u001b[1m3s\u001b[0m 21ms/step - accuracy: 0.3065 - loss: 3.6574\n",
            "Epoch 22/30\n",
            "\u001b[1m106/106\u001b[0m \u001b[32m━━━━━━━━━━━━━━━━━━━━\u001b[0m\u001b[37m\u001b[0m \u001b[1m2s\u001b[0m 14ms/step - accuracy: 0.3397 - loss: 3.4747\n",
            "Epoch 23/30\n",
            "\u001b[1m106/106\u001b[0m \u001b[32m━━━━━━━━━━━━━━━━━━━━\u001b[0m\u001b[37m\u001b[0m \u001b[1m3s\u001b[0m 14ms/step - accuracy: 0.3778 - loss: 3.2938\n",
            "Epoch 24/30\n",
            "\u001b[1m106/106\u001b[0m \u001b[32m━━━━━━━━━━━━━━━━━━━━\u001b[0m\u001b[37m\u001b[0m \u001b[1m2s\u001b[0m 14ms/step - accuracy: 0.4164 - loss: 3.1036\n",
            "Epoch 25/30\n",
            "\u001b[1m106/106\u001b[0m \u001b[32m━━━━━━━━━━━━━━━━━━━━\u001b[0m\u001b[37m\u001b[0m \u001b[1m2s\u001b[0m 14ms/step - accuracy: 0.4619 - loss: 2.9228\n",
            "Epoch 26/30\n",
            "\u001b[1m106/106\u001b[0m \u001b[32m━━━━━━━━━━━━━━━━━━━━\u001b[0m\u001b[37m\u001b[0m \u001b[1m1s\u001b[0m 14ms/step - accuracy: 0.4945 - loss: 2.7506\n",
            "Epoch 27/30\n",
            "\u001b[1m106/106\u001b[0m \u001b[32m━━━━━━━━━━━━━━━━━━━━\u001b[0m\u001b[37m\u001b[0m \u001b[1m3s\u001b[0m 23ms/step - accuracy: 0.5365 - loss: 2.5953\n",
            "Epoch 28/30\n",
            "\u001b[1m106/106\u001b[0m \u001b[32m━━━━━━━━━━━━━━━━━━━━\u001b[0m\u001b[37m\u001b[0m \u001b[1m2s\u001b[0m 14ms/step - accuracy: 0.5585 - loss: 2.4730\n",
            "Epoch 29/30\n",
            "\u001b[1m106/106\u001b[0m \u001b[32m━━━━━━━━━━━━━━━━━━━━\u001b[0m\u001b[37m\u001b[0m \u001b[1m2s\u001b[0m 14ms/step - accuracy: 0.5832 - loss: 2.3281\n",
            "Epoch 30/30\n",
            "\u001b[1m106/106\u001b[0m \u001b[32m━━━━━━━━━━━━━━━━━━━━\u001b[0m\u001b[37m\u001b[0m \u001b[1m3s\u001b[0m 14ms/step - accuracy: 0.6166 - loss: 2.1997\n"
          ]
        }
      ]
    },
    {
      "cell_type": "code",
      "source": [
        "def generate_poem(model, tokenizer, seed_text, seq_length=5, num_words=50, line_length=7):\n",
        "    result = seed_text.split()\n",
        "    for _ in range(num_words):\n",
        "        # Son seq_length kelimeyi hazırla\n",
        "        sequence = tokenizer.texts_to_sequences([' '.join(result)])[0]\n",
        "        sequence = sequence[-seq_length:]\n",
        "        sequence = pad_sequences([sequence], maxlen=seq_length, padding='pre')\n",
        "\n",
        "        # Tahmin yap\n",
        "        predicted_probs = model.predict(sequence, verbose=0)[0]\n",
        "        predicted_id = np.argmax(predicted_probs)\n",
        "\n",
        "        # ID → kelime\n",
        "        output_word = next((word for word, index in tokenizer.word_index.items() if index == predicted_id), '')\n",
        "        result.append(output_word)\n",
        "\n",
        "    # Şiir formatında satırlara böl\n",
        "    poem = \"\"\n",
        "    for i in range(0, len(result), line_length):\n",
        "        poem += \" \".join(result[i:i+line_length]) + \"\\n\"\n",
        "\n",
        "    return poem\n"
      ],
      "metadata": {
        "id": "t3heoE4l_CNX"
      },
      "execution_count": null,
      "outputs": []
    },
    {
      "cell_type": "code",
      "source": [
        "seed = \"gecenin sessizliği\"\n",
        "print(generate_poem(model, tokenizer, seed_text=seed, seq_length=5, num_words=40, line_length=6))\n"
      ],
      "metadata": {
        "colab": {
          "base_uri": "https://localhost:8080/"
        },
        "id": "VjtNLpG5_cfd",
        "outputId": "e5e2f903-d556-43d2-a554-49f144493723"
      },
      "execution_count": null,
      "outputs": [
        {
          "output_type": "stream",
          "name": "stdout",
          "text": [
            "gecenin sessizliği hala mı anadolu bi\n",
            "değilim konuş eser hem çiçek yazalı\n",
            "yolladılar yaşar mı gam bir yandım\n",
            "çekmek diyecek yerim bir şehri kıldın\n",
            "elime umut bir bahar oku daha\n",
            "hayat bir sızı gün edicen bir\n",
            "dalı kahrolursun gün nalan bir umut\n",
            "\n"
          ]
        }
      ]
    },
    {
      "cell_type": "code",
      "source": [
        "import numpy as np\n",
        "from tensorflow.keras.preprocessing.sequence import pad_sequences\n",
        "\n",
        "# Sampling fonksiyonu: temperature + optional top_k\n",
        "def sample_with_temperature(preds, temperature=1.0, top_k=None):\n",
        "    preds = np.asarray(preds).astype('float64')\n",
        "    # padding indexi (0) seçilmesin:\n",
        "    preds[0] = 0.0\n",
        "\n",
        "    if top_k is not None:\n",
        "        top_k = max(1, int(top_k))\n",
        "        # top_k en büyük olasılıklı indeksleri bul\n",
        "        indices = np.argpartition(preds, -top_k)[-top_k:]\n",
        "        mask = np.zeros_like(preds)\n",
        "        mask[indices] = 1\n",
        "        preds = preds * mask\n",
        "\n",
        "    # stabilizasyon için küçük değer ekle ve temperature uygula\n",
        "    preds = np.log(preds + 1e-8) / max(1e-8, temperature)\n",
        "    exp_preds = np.exp(preds)\n",
        "    probs = exp_preds / np.sum(exp_preds)\n",
        "    # numpy.random.choice ile olasılığa göre seçim\n",
        "    return np.random.choice(len(probs), p=probs)\n"
      ],
      "metadata": {
        "id": "V44EB1eJ_f1b"
      },
      "execution_count": null,
      "outputs": []
    },
    {
      "cell_type": "code",
      "source": [
        "def generate_poem_sampling(model, tokenizer, seed_text,\n",
        "                           seq_length=5, num_words=50, line_length=7,\n",
        "                           temperature=1.0, top_k=None, random_seed=None):\n",
        "    \"\"\"\n",
        "    model: eğitilmiş Keras modeli\n",
        "    tokenizer: Keras Tokenizer\n",
        "    seed_text: başlangıç metni\n",
        "    seq_length: modelin beklediği input uzunluğu (ör. 5)\n",
        "    num_words: üretilecek kelime sayısı\n",
        "    line_length: kaç kelimede bir satır kırılacak\n",
        "    temperature: sampling ayarı (0.2 daha sade , 1.0 normal, 1.5 daha rastgele)\n",
        "    top_k: None veya bir int (ör. 50) — yalnızca en olası top_k kelime içinden seç\n",
        "    random_seed: tekrarlanabilirlik\n",
        "    \"\"\"\n",
        "    if random_seed is not None:\n",
        "        np.random.seed(random_seed)\n",
        "\n",
        "    index_word = getattr(tokenizer, 'index_word', None)\n",
        "    if index_word is None:\n",
        "        index_word = {v:k for k,v in tokenizer.word_index.items()}\n",
        "\n",
        "    result = seed_text.split()\n",
        "\n",
        "    for _ in range(num_words):\n",
        "        seq = tokenizer.texts_to_sequences([' '.join(result)])[0]\n",
        "        seq = seq[-seq_length:]\n",
        "        seq = pad_sequences([seq], maxlen=seq_length, padding='pre')\n",
        "\n",
        "        preds = model.predict(seq, verbose=0)[0]\n",
        "\n",
        "        next_id = sample_with_temperature(preds, temperature=temperature, top_k=top_k)\n",
        "\n",
        "        next_word = index_word.get(next_id, '')\n",
        "\n",
        "        if next_word == '':\n",
        "            continue\n",
        "\n",
        "        result.append(next_word)\n",
        "\n",
        "    # Şiir formatında yazdırma\n",
        "    poem_lines = []\n",
        "    for i in range(0, len(result), line_length):\n",
        "        poem_lines.append(' '.join(result[i:i+line_length]))\n",
        "\n",
        "    return '\\n'.join(poem_lines)\n"
      ],
      "metadata": {
        "id": "ETnUJBTZA6Mg"
      },
      "execution_count": null,
      "outputs": []
    },
    {
      "cell_type": "code",
      "source": [
        "print(generate_poem_sampling(model, tokenizer, seed_text=\"gecenin sessizliği\",\n",
        "                             seq_length=5, num_words=40, line_length=6,\n",
        "                             temperature=0.5, top_k=50, random_seed=42))\n"
      ],
      "metadata": {
        "colab": {
          "base_uri": "https://localhost:8080/"
        },
        "id": "uoZsYIpNA9EF",
        "outputId": "f3ffa1fe-e8e6-4077-89ac-3814ae7ae501"
      },
      "execution_count": null,
      "outputs": [
        {
          "output_type": "stream",
          "name": "stdout",
          "text": [
            "gecenin sessizliği hala çeyiz kanun birer\n",
            "ayrı kalmasın yaşar bak sende allah\n",
            "gönlünde yerinme bi’ ben bir gam\n",
            "yaşar o geçti dolu bal hem\n",
            "eğilmemiş ben yandım bırakır bir lokma\n",
            "yeniden beni yaramı hayat o bırakmamışlar\n",
            "bir kez olsun o ol dert\n"
          ]
        }
      ]
    },
    {
      "cell_type": "code",
      "source": [
        "print(generate_poem_sampling(model, tokenizer, seed_text=\"gecenin sessizliği\",\n",
        "                             seq_length=5, num_words=40, line_length=6,\n",
        "                             temperature=1.2, top_k=100, random_seed=7))\n"
      ],
      "metadata": {
        "colab": {
          "base_uri": "https://localhost:8080/"
        },
        "id": "97eBwVWaBCJO",
        "outputId": "f112d834-c6b1-4e32-fa22-08f8b82c3cbb"
      },
      "execution_count": null,
      "outputs": [
        {
          "output_type": "stream",
          "name": "stdout",
          "text": [
            "gecenin sessizliği hem deli silmedi kokunu\n",
            "kovuldum dalı geri kalbe taş akılsız\n",
            "sevda da kendimi gün olur grev\n",
            "hayat ama söndürmez zaman ağzın direnmiş\n",
            "olan yaprak sokaklarında kalmış hayrını var\n",
            "olur umut bu sevinci daha için\n",
            "dur benden güzel davul güzelleştirmeden olan\n"
          ]
        }
      ]
    },
    {
      "cell_type": "code",
      "source": [],
      "metadata": {
        "id": "i8vLrvnKBNPS"
      },
      "execution_count": null,
      "outputs": []
    }
  ]
}